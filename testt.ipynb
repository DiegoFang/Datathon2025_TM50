{
 "cells": [
  {
   "cell_type": "markdown",
   "id": "b2850bc5",
   "metadata": {},
   "source": [
    "![Image Description](https://github.com/DiegoFang/Datathon2025_TM50/blob/4be6bd4c5fd3836b34fa602a2eeb87f00ecde287/914d66051ff10a629a6c2b802751a683.jpg)"
   ]
  },
  {
   "cell_type": "code",
   "execution_count": null,
   "id": "cdd62caf",
   "metadata": {
    "vscode": {
     "languageId": "plaintext"
    }
   },
   "outputs": [],
   "source": []
  }
 ],
 "metadata": {
  "language_info": {
   "name": "python"
  }
 },
 "nbformat": 4,
 "nbformat_minor": 5
}
