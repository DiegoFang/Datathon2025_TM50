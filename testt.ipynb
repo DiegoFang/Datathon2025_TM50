{
 "cells": [
  {
   "cell_type": "markdown",
   "id": "b2850bc5",
   "metadata": {},
   "source": [
    "### Hello!  "
   ]
  },
  {
   "cell_type": "code",
   "execution_count": null,
   "id": "cdd62caf",
   "metadata": {
    "vscode": {
     "languageId": "plaintext"
    }
   },
   "outputs": [],
   "source": []
  }
 ],
 "metadata": {
  "language_info": {
   "name": "python"
  }
 },
 "nbformat": 4,
 "nbformat_minor": 5
}
