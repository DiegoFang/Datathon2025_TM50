{
 "cells": [
  {
   "cell_type": "code",
   "execution_count": 1,
   "id": "b901f92e",
   "metadata": {},
   "outputs": [],
   "source": [
    "import pandas as pd \n",
    "import numpy as np \n",
    "import seaborn as sb "
   ]
  },
  {
   "cell_type": "code",
   "execution_count": 2,
   "id": "279e483c",
   "metadata": {},
   "outputs": [],
   "source": [
    "\n",
    "try:\n",
    "    ori_data = pd.read_excel('CTG.xls', sheet_name='Data', skiprows=2)\n",
    "    ori_data.head()\n",
    "except FileNotFoundError:\n",
    "    print(\" 'CTG.xls' 未找到，请检查路径是否正确。\")\n"
   ]
  },
  {
   "cell_type": "code",
   "execution_count": 3,
   "id": "4ac54132",
   "metadata": {},
   "outputs": [
    {
     "name": "stdout",
     "output_type": "stream",
     "text": [
      "hello! world?\n",
      "     240     357    0  0.1   0.2  0.3  0.4  0.5  0.6  Unnamed: 9  ...  -1.4  \\\n",
      "0    5.0   632.0  4.0  0.0   4.0  2.0  0.0  0.0  0.0         NaN  ...  -1.0   \n",
      "1  177.0   779.0  2.0  0.0   5.0  2.0  0.0  0.0  0.0         NaN  ...  -1.0   \n",
      "2  411.0  1192.0  2.0  0.0   6.0  2.0  0.0  0.0  0.0         NaN  ...  -1.0   \n",
      "3  533.0  1147.0  4.0  0.0   5.0  0.0  0.0  0.0  0.0         NaN  ...  -1.0   \n",
      "4    0.0   953.0  1.0  0.0  10.0  9.0  0.0  2.0  0.0         NaN  ...  -1.0   \n",
      "\n",
      "   -1.5  -1.6  -1.7  1.1  -1.8  Unnamed: 42    9  Unnamed: 44  2.1  \n",
      "0   1.0  -1.0  -1.0 -1.0  -1.0          NaN  6.0          NaN  1.0  \n",
      "1   1.0  -1.0  -1.0 -1.0  -1.0          NaN  6.0          NaN  1.0  \n",
      "2   1.0  -1.0  -1.0 -1.0  -1.0          NaN  6.0          NaN  1.0  \n",
      "3  -1.0  -1.0  -1.0 -1.0  -1.0          NaN  2.0          NaN  1.0  \n",
      "4  -1.0  -1.0   1.0 -1.0  -1.0          NaN  8.0          NaN  3.0  \n",
      "\n",
      "[5 rows x 46 columns]\n"
     ]
    }
   ],
   "source": [
    "# test of local clone push.\n",
    "print('hello! world?')\n",
    "print(ori_data.head())"
   ]
  }
 ],
 "metadata": {
  "kernelspec": {
   "display_name": "base",
   "language": "python",
   "name": "python3"
  },
  "language_info": {
   "codemirror_mode": {
    "name": "ipython",
    "version": 3
   },
   "file_extension": ".py",
   "mimetype": "text/x-python",
   "name": "python",
   "nbconvert_exporter": "python",
   "pygments_lexer": "ipython3",
   "version": "3.12.7"
  }
 },
 "nbformat": 4,
 "nbformat_minor": 5
}
